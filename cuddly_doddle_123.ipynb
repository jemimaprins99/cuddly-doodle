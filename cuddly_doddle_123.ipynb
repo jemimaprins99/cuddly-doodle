{
  "nbformat": 4,
  "nbformat_minor": 0,
  "metadata": {
    "colab": {
      "provenance": [],
      "include_colab_link": true
    },
    "kernelspec": {
      "name": "python3",
      "display_name": "Python 3"
    },
    "language_info": {
      "name": "python"
    }
  },
  "cells": [
    {
      "cell_type": "markdown",
      "metadata": {
        "id": "view-in-github",
        "colab_type": "text"
      },
      "source": [
        "<a href=\"https://colab.research.google.com/github/jemimaprins99/cuddly-doodle/blob/jemimaprins/cuddly_doddle_123.ipynb\" target=\"_parent\"><img src=\"https://colab.research.google.com/assets/colab-badge.svg\" alt=\"Open In Colab\"/></a>"
      ]
    },
    {
      "cell_type": "code",
      "source": [],
      "metadata": {
        "id": "XZ8j8wk91CXi"
      },
      "execution_count": null,
      "outputs": []
    },
    {
      "cell_type": "code",
      "execution_count": null,
      "metadata": {
        "id": "-KcjaCmstOSj"
      },
      "outputs": [],
      "source": []
    },
    {
      "cell_type": "markdown",
      "source": [
        "This is the first piece of code. I will write it and then save to github."
      ],
      "metadata": {
        "id": "cqwFIQz-tUou"
      }
    },
    {
      "cell_type": "code",
      "source": [
        "print(\"hello world\")"
      ],
      "metadata": {
        "colab": {
          "base_uri": "https://localhost:8080/"
        },
        "id": "TtiruPSKtbVE",
        "outputId": "f432cd43-d8b9-4fd2-8e5f-d8bc1c975526"
      },
      "execution_count": null,
      "outputs": [
        {
          "output_type": "stream",
          "name": "stdout",
          "text": [
            "hello world\n"
          ]
        }
      ]
    },
    {
      "cell_type": "markdown",
      "source": [
        "Now this has been saved I will add some more stuff to see what happens\n"
      ],
      "metadata": {
        "id": "wZOMPz0dvAtV"
      }
    },
    {
      "cell_type": "code",
      "source": [
        "x=1+1\n",
        "print(x)"
      ],
      "metadata": {
        "colab": {
          "base_uri": "https://localhost:8080/"
        },
        "id": "g4z4Ew26vEoB",
        "outputId": "712a8d16-fe1f-4e59-c8c7-dcd3e6b1e5fc"
      },
      "execution_count": null,
      "outputs": [
        {
          "output_type": "stream",
          "name": "stdout",
          "text": [
            "2\n"
          ]
        }
      ]
    },
    {
      "cell_type": "markdown",
      "source": [
        "Now I will try to add a branch and see what happens\n"
      ],
      "metadata": {
        "id": "zF6Ub3qqvTrs"
      }
    },
    {
      "cell_type": "code",
      "source": [
        "def my_function(a,b,c):\n",
        "  x = a+b+c\n",
        "  return x\n",
        "\n",
        "XX = my_function(2,3,4)\n",
        "print(XX)"
      ],
      "metadata": {
        "colab": {
          "base_uri": "https://localhost:8080/"
        },
        "id": "u8Cf-0ZKvXMD",
        "outputId": "b200266c-937e-4e38-ad80-fe821783f865"
      },
      "execution_count": null,
      "outputs": [
        {
          "output_type": "stream",
          "name": "stdout",
          "text": [
            "9\n"
          ]
        }
      ]
    },
    {
      "cell_type": "code",
      "source": [
        "#Here is another function\n",
        "def function_2(stuff):\n",
        "  #stuff happens here\n",
        "  return stuff**2\n",
        "\n",
        "YY = function_2(7)\n",
        "print(YY)\n"
      ],
      "metadata": {
        "colab": {
          "base_uri": "https://localhost:8080/"
        },
        "id": "qMe2tOwi1Fxp",
        "outputId": "e4b6de07-a6db-4242-92ef-372874ef854c"
      },
      "execution_count": 2,
      "outputs": [
        {
          "output_type": "stream",
          "name": "stdout",
          "text": [
            "49\n"
          ]
        }
      ]
    }
  ]
}